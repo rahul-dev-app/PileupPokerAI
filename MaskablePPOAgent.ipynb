{
 "cells": [
  {
   "cell_type": "code",
   "execution_count": 1,
   "metadata": {},
   "outputs": [],
   "source": [
    "import gymnasium as gym\n",
    "from gymnasium.envs.registration import register\n",
    "import numpy as np\n",
    "from pp_utils import pp_utils\n",
    "\n",
    "pp_utils_obj = pp_utils.PP_Utils()\n",
    "\n",
    "register(\n",
    "    id='PileupPoker-v0',\n",
    "    entry_point='pileup_poker.pileup_poker:PileupPokerEnv',\n",
    ")"
   ]
  },
  {
   "cell_type": "code",
   "execution_count": null,
   "metadata": {},
   "outputs": [],
   "source": [
    "from sb3_contrib import MaskablePPO\n",
    "from sb3_contrib.common.wrappers import ActionMasker\n",
    "from sb3_contrib.common.maskable.policies import MaskableMultiInputActorCriticPolicy\n",
    "from stable_baselines3.common.callbacks import BaseCallback\n",
    "from stable_baselines3.common.callbacks import EvalCallback, CheckpointCallback\n",
    "\n",
    "class RewardLoggingCallback(BaseCallback):\n",
    "    def __init__(self, check_freq, verbose=1):\n",
    "        super(RewardLoggingCallback, self).__init__(verbose)\n",
    "        self.check_freq = check_freq\n",
    "\n",
    "    def _on_step(self) -> bool:\n",
    "        if self.n_calls % self.check_freq == 0:\n",
    "            mean_reward = np.mean(self.locals['rewards'])\n",
    "            print(f\"Step: {self.num_timesteps}, Mean Reward: {mean_reward}\")\n",
    "        return True\n",
    "\n",
    "def mask_fn(env: gym.Env) -> np.ndarray:\n",
    "    return env.get_action_mask()\n",
    "\n",
    "# Linear learning rate schedule\n",
    "def linear_schedule(initial_value):\n",
    "    def func(progress_remaining):\n",
    "        # Progress will decrease from 1 (start) to 0 (end)\n",
    "        return progress_remaining * initial_value\n",
    "    return func\n",
    "\n",
    "TIMESTEPS_TO_RUN = 1600000\n",
    "CHECK_FREQ = TIMESTEPS_TO_RUN/10\n",
    "TEST_NAME = \"UsualTrainingFull_linearSchedule\"\n",
    "\n",
    "# Set up callbacks\n",
    "checkpoint_callback = CheckpointCallback(save_freq=CHECK_FREQ, save_path='./models/'+TEST_NAME, name_prefix=TEST_NAME)\n",
    "reward_logging_callback = RewardLoggingCallback(check_freq=CHECK_FREQ)\n",
    "\n",
    "env = gym.make('PileupPoker-v0')\n",
    "# Wrap to enable masking\n",
    "env = ActionMasker(env, mask_fn) \n",
    "# Masking PPO reduces the training time given there are only a limited number of good actions\n",
    "# out of the total posssible actions, as the game approaches an end state\n",
    "model = MaskablePPO(MaskableMultiInputActorCriticPolicy, env, tensorboard_log=\"./ppo_poker_tensorboard\", learning_rate=linear_schedule(3e-2))\n",
    "\n",
    "eval_callback = EvalCallback(\n",
    "    env,\n",
    "    best_model_save_path='./logs/'+ TEST_NAME +'/best_model/',\n",
    "    log_path='./logs/' + TEST_NAME + '/results/',\n",
    "    eval_freq=CHECK_FREQ,\n",
    "    deterministic=True,\n",
    "    render=False\n",
    ")\n",
    "\n",
    "model.learn(total_timesteps=TIMESTEPS_TO_RUN, callback=[reward_logging_callback, checkpoint_callback, eval_callback], tb_log_name=TEST_NAME)\n",
    "\n",
    "obs, info = env.reset()\n",
    "done = False\n",
    "while not done:\n",
    "    action, _states = model.predict(obs, action_masks=env.get_action_mask())\n",
    "    obs, rewards, done, info, _ = env.step(action)\n",
    "    env.render()\n",
    "\n",
    "print(\"Final reward: \",  rewards)\n",
    "print(\"Num moves made: \", len(env.actions_made_this_game))"
   ]
  },
  {
   "cell_type": "code",
   "execution_count": null,
   "metadata": {
    "scrolled": true
   },
   "outputs": [],
   "source": [
    "# Test with random decks and deterministic output\n",
    "obs, info = env.reset()\n",
    "done = False\n",
    "while not done:\n",
    "    action, _states = model.predict(obs, action_masks=env.get_action_mask(), deterministic=True)\n",
    "    obs, rewards, done, info, _ = env.step(action)\n",
    "    env.render()\n",
    "    pp_utils_obj.plot_probs_heatmap(model.policy.action_dist.distribution.probs[0])\n",
    "print(\"Final reward: \",  rewards)"
   ]
  }
 ],
 "metadata": {
  "kernelspec": {
   "display_name": "Python 3 (ipykernel)",
   "language": "python",
   "name": "python3"
  },
  "language_info": {
   "codemirror_mode": {
    "name": "ipython",
    "version": 3
   },
   "file_extension": ".py",
   "mimetype": "text/x-python",
   "name": "python",
   "nbconvert_exporter": "python",
   "pygments_lexer": "ipython3",
   "version": "3.12.4"
  }
 },
 "nbformat": 4,
 "nbformat_minor": 4
}
