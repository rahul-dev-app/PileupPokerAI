{
 "cells": [
  {
   "cell_type": "code",
   "execution_count": 1,
   "metadata": {},
   "outputs": [],
   "source": [
    "import gymnasium as gym\n",
    "from gymnasium.envs.registration import register\n",
    "\n",
    "register(\n",
    "    id='PileupPoker-v0',\n",
    "    entry_point='pileup_poker.pileup_poker:PileupPokerEnv',\n",
    ")"
   ]
  },
  {
   "cell_type": "code",
   "execution_count": null,
   "metadata": {},
   "outputs": [],
   "source": [
    "from pileup_poker import greedy_agent\n",
    "\n",
    "env = gym.make('PileupPoker-v0')\n",
    "\n",
    "# Use a custom deck\n",
    "deck_1 = ['JD', 'KD', 'QD', 'AD', '6S',\n",
    "          'JH', 'AH', 'KH', 'QH', '6D',\n",
    "          'KC', 'AC', 'QC', 'JC', '6H',\n",
    "          'AS', 'JS', 'KS', 'QS', '6C']\n",
    "\n",
    "deck_2 = ['9D', '9C', '6C', '7D', 'KS',\n",
    "          '7C', '6S', '9H', 'KD', '6H',\n",
    "          '9S', 'QD', 'QC', 'AS', 'TH',\n",
    "          'KH', 'KC', '7S', '8C', 'AD']\n",
    "\n",
    "my_greedy_agent = greedy_agent.GreedyPileupPokerAgent(env)\n",
    "# Set custom_deck = None for a randomized deck\n",
    "my_greedy_agent.play(custom_deck=deck_1)"
   ]
  }
 ],
 "metadata": {
  "kernelspec": {
   "display_name": "Python 3 (ipykernel)",
   "language": "python",
   "name": "python3"
  },
  "language_info": {
   "codemirror_mode": {
    "name": "ipython",
    "version": 3
   },
   "file_extension": ".py",
   "mimetype": "text/x-python",
   "name": "python",
   "nbconvert_exporter": "python",
   "pygments_lexer": "ipython3",
   "version": "3.12.4"
  }
 },
 "nbformat": 4,
 "nbformat_minor": 4
}
